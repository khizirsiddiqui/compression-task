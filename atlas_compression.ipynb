{
  "nbformat": 4,
  "nbformat_minor": 0,
  "metadata": {
    "kernelspec": {
      "display_name": "Python 3",
      "language": "python",
      "name": "python3"
    },
    "language_info": {
      "codemirror_mode": {
        "name": "ipython",
        "version": 3
      },
      "file_extension": ".py",
      "mimetype": "text/x-python",
      "name": "python",
      "nbconvert_exporter": "python",
      "pygments_lexer": "ipython3",
      "version": "3.7.3"
    },
    "colab": {
      "name": "ATLAS_Submission.ipynb",
      "provenance": [],
      "collapsed_sections": []
    },
    "accelerator": "GPU"
  },
  "cells": [
    {
      "cell_type": "markdown",
      "metadata": {
        "id": "4uSagWYDtN4w"
      },
      "source": [
        "## Look into the dataset"
      ]
    },
    {
      "cell_type": "code",
      "metadata": {
        "id": "huFilJprtP8P",
        "colab": {
          "base_uri": "https://localhost:8080/"
        },
        "outputId": "8d072a1c-eef3-466e-920b-1edc2a1a8ec2"
      },
      "source": [
        "!pip3 install git+https://github.com/fastai/fastai.git"
      ],
      "execution_count": 1,
      "outputs": [
        {
          "output_type": "stream",
          "text": [
            "\u001b[?25hRequirement already satisfied: pyparsing>=2.0.2 in /usr/local/lib/python3.7/dist-packages (from packaging->fastai==2.2.8) (2.4.7)\n",
            "Requirement already satisfied: numpy in /usr/local/lib/python3.7/dist-packages (from torchvision<0.9,>=0.8->fastai==2.2.8) (1.19.5)\n",
            "Requirement already satisfied: python-dateutil>=2.1 in /usr/local/lib/python3.7/dist-packages (from matplotlib->fastai==2.2.8) (2.8.1)\n",
            "Requirement already satisfied: kiwisolver>=1.0.1 in /usr/local/lib/python3.7/dist-packages (from matplotlib->fastai==2.2.8) (1.3.1)\n",
            "Requirement already satisfied: cycler>=0.10 in /usr/local/lib/python3.7/dist-packages (from matplotlib->fastai==2.2.8) (0.10.0)\n",
            "Requirement already satisfied: pytz>=2017.2 in /usr/local/lib/python3.7/dist-packages (from pandas->fastai==2.2.8) (2018.9)\n",
            "Requirement already satisfied: chardet<4,>=3.0.2 in /usr/local/lib/python3.7/dist-packages (from requests->fastai==2.2.8) (3.0.4)\n",
            "Requirement already satisfied: idna<3,>=2.5 in /usr/local/lib/python3.7/dist-packages (from requests->fastai==2.2.8) (2.10)\n",
            "Requirement already satisfied: urllib3!=1.25.0,!=1.25.1,<1.26,>=1.21.1 in /usr/local/lib/python3.7/dist-packages (from requests->fastai==2.2.8) (1.24.3)\n",
            "Requirement already satisfied: certifi>=2017.4.17 in /usr/local/lib/python3.7/dist-packages (from requests->fastai==2.2.8) (2020.12.5)\n",
            "Requirement already satisfied: joblib>=0.11 in /usr/local/lib/python3.7/dist-packages (from scikit-learn->fastai==2.2.8) (1.0.1)\n",
            "Requirement already satisfied: plac<1.2.0,>=0.9.6 in /usr/local/lib/python3.7/dist-packages (from spacy<3->fastai==2.2.8) (1.1.3)\n",
            "Requirement already satisfied: murmurhash<1.1.0,>=0.28.0 in /usr/local/lib/python3.7/dist-packages (from spacy<3->fastai==2.2.8) (1.0.5)\n",
            "Requirement already satisfied: setuptools in /usr/local/lib/python3.7/dist-packages (from spacy<3->fastai==2.2.8) (54.0.0)\n",
            "Requirement already satisfied: blis<0.5.0,>=0.4.0 in /usr/local/lib/python3.7/dist-packages (from spacy<3->fastai==2.2.8) (0.4.1)\n",
            "Requirement already satisfied: catalogue<1.1.0,>=0.0.7 in /usr/local/lib/python3.7/dist-packages (from spacy<3->fastai==2.2.8) (1.0.0)\n",
            "Requirement already satisfied: srsly<1.1.0,>=1.0.2 in /usr/local/lib/python3.7/dist-packages (from spacy<3->fastai==2.2.8) (1.0.5)\n",
            "Requirement already satisfied: cymem<2.1.0,>=2.0.2 in /usr/local/lib/python3.7/dist-packages (from spacy<3->fastai==2.2.8) (2.0.5)\n",
            "Requirement already satisfied: thinc==7.4.0 in /usr/local/lib/python3.7/dist-packages (from spacy<3->fastai==2.2.8) (7.4.0)\n",
            "Requirement already satisfied: preshed<3.1.0,>=3.0.2 in /usr/local/lib/python3.7/dist-packages (from spacy<3->fastai==2.2.8) (3.0.5)\n",
            "Requirement already satisfied: wasabi<1.1.0,>=0.4.0 in /usr/local/lib/python3.7/dist-packages (from spacy<3->fastai==2.2.8) (0.8.2)\n",
            "Requirement already satisfied: tqdm<5.0.0,>=4.38.0 in /usr/local/lib/python3.7/dist-packages (from spacy<3->fastai==2.2.8) (4.41.1)\n",
            "Requirement already satisfied: typing-extensions in /usr/local/lib/python3.7/dist-packages (from torch<1.8,>=1.7.0->fastai==2.2.8) (3.7.4.3)\n",
            "Requirement already satisfied: six>=1.5 in /usr/local/lib/python3.7/dist-packages (from python-dateutil>=2.1->matplotlib->fastai==2.2.8) (1.15.0)\n",
            "Requirement already satisfied: importlib-metadata>=0.20; python_version < \"3.8\" in /usr/local/lib/python3.7/dist-packages (from catalogue<1.1.0,>=0.0.7->spacy<3->fastai==2.2.8) (3.7.0)\n",
            "Requirement already satisfied: zipp>=0.5 in /usr/local/lib/python3.7/dist-packages (from importlib-metadata>=0.20; python_version < \"3.8\"->catalogue<1.1.0,>=0.0.7->spacy<3->fastai==2.2.8) (3.4.1)\n",
            "Building wheels for collected packages: fastai\n",
            "  Building wheel for fastai (setup.py) ... \u001b[?25l\u001b[?25hdone\n",
            "  Created wheel for fastai: filename=fastai-2.2.8-cp37-none-any.whl size=192313 sha256=3d5b878e0297bbc29925d7f9010d03e13e8da8b891f13f159a99aaac225b10e3\n",
            "  Stored in directory: /tmp/pip-ephem-wheel-cache-3uqwvljd/wheels/cf/46/39/b2d08762125ed2376861976ab2c4ac30c029b86e375735d9b8\n",
            "Successfully built fastai\n",
            "\u001b[31mERROR: torchtext 0.9.0 has requirement torch==1.8.0, but you'll have torch 1.7.1 which is incompatible.\u001b[0m\n",
            "Installing collected packages: fastcore, torch, torchvision, fastai\n",
            "  Found existing installation: torch 1.8.0+cu101\n",
            "    Uninstalling torch-1.8.0+cu101:\n",
            "      Successfully uninstalled torch-1.8.0+cu101\n",
            "  Found existing installation: torchvision 0.9.0+cu101\n",
            "    Uninstalling torchvision-0.9.0+cu101:\n",
            "      Successfully uninstalled torchvision-0.9.0+cu101\n",
            "  Found existing installation: fastai 1.0.61\n",
            "    Uninstalling fastai-1.0.61:\n",
            "      Successfully uninstalled fastai-1.0.61\n",
            "Successfully installed fastai-2.2.8 fastcore-1.3.19 torch-1.7.1 torchvision-0.8.2\n"
          ],
          "name": "stdout"
        }
      ]
    },
    {
      "cell_type": "code",
      "metadata": {
        "ExecuteTime": {
          "end_time": "2021-03-10T17:30:54.501554Z",
          "start_time": "2021-03-10T17:30:54.491417Z"
        },
        "colab": {
          "base_uri": "https://localhost:8080/",
          "height": 39
        },
        "id": "EcVkqyC8tN4z",
        "outputId": "185eadaf-edde-4c79-b7cf-e18e72185b9b"
      },
      "source": [
        "import sys\n",
        "sys.version"
      ],
      "execution_count": 2,
      "outputs": [
        {
          "output_type": "execute_result",
          "data": {
            "application/vnd.google.colaboratory.intrinsic+json": {
              "type": "string"
            },
            "text/plain": [
              "'3.7.10 (default, Feb 20 2021, 21:17:23) \\n[GCC 7.5.0]'"
            ]
          },
          "metadata": {
            "tags": []
          },
          "execution_count": 2
        }
      ]
    },
    {
      "cell_type": "markdown",
      "metadata": {
        "id": "6ykBiaw4jf9J"
      },
      "source": [
        "### Loading the data\n",
        "\n",
        "$E$ and $p_T$ are log transformed whereas $\\eta$ and $\\phi$ are scaled down by $\\pi$"
      ]
    },
    {
      "cell_type": "code",
      "metadata": {
        "ExecuteTime": {
          "end_time": "2021-03-10T17:30:55.206525Z",
          "start_time": "2021-03-10T17:30:54.769347Z"
        },
        "colab": {
          "base_uri": "https://localhost:8080/"
        },
        "id": "_RNp3a67tN43",
        "outputId": "af812abd-942f-40c4-c1a3-e36a937acabb"
      },
      "source": [
        "import pandas as pd\n",
        "import csv\n",
        "import numpy as np\n",
        "\n",
        "# Path to the given dataset csv\n",
        "dataset_path = '/content/dataset.csv'\n",
        "\n",
        "with open(dataset_path) as f:\n",
        "    r = csv.reader(f, delimiter=';')\n",
        "    E1s = []\n",
        "    pt1s = []\n",
        "    eta1s = []\n",
        "    phi1s = []\n",
        "    \n",
        "    for _, _, _, _, _, *vals in r:\n",
        "        for i,item in enumerate(vals,1):\n",
        "            if 'j' not in item: continue\n",
        "            items = item.split(',')\n",
        "            obj1, E1, pt1, eta1, phi1 = items\n",
        "            E1s.append(np.log(float(E1)))\n",
        "            pt1s.append(np.log(float(pt1)))\n",
        "            eta1s.append(float(eta1)/np.pi)\n",
        "            phi1s.append(float(phi1)/np.pi)\n",
        "\n",
        "data = {'E': E1s, 'pt':pt1s, 'eta':eta1s, 'phi':phi1s}\n",
        "df = pd.DataFrame(data, columns=data.keys())\n",
        "print(df.describe())\n",
        "print(df.info())"
      ],
      "execution_count": 3,
      "outputs": [
        {
          "output_type": "stream",
          "text": [
            "                  E            pt           eta           phi\n",
            "count  22661.000000  22661.000000  22661.000000  22661.000000\n",
            "mean      12.494736     11.790787      0.003815     -0.003943\n",
            "std        1.056825      1.131862      0.479411      0.576237\n",
            "min       10.101346     10.002722     -1.550204     -0.999990\n",
            "25%       11.680497     10.767270     -0.304042     -0.503811\n",
            "50%       12.581144     11.709487      0.004326     -0.002289\n",
            "75%       13.347631     12.806723      0.314576      0.491445\n",
            "max       15.300219     14.553086      1.512952      0.999878\n",
            "<class 'pandas.core.frame.DataFrame'>\n",
            "RangeIndex: 22661 entries, 0 to 22660\n",
            "Data columns (total 4 columns):\n",
            " #   Column  Non-Null Count  Dtype  \n",
            "---  ------  --------------  -----  \n",
            " 0   E       22661 non-null  float64\n",
            " 1   pt      22661 non-null  float64\n",
            " 2   eta     22661 non-null  float64\n",
            " 3   phi     22661 non-null  float64\n",
            "dtypes: float64(4)\n",
            "memory usage: 708.3 KB\n",
            "None\n"
          ],
          "name": "stdout"
        }
      ]
    },
    {
      "cell_type": "markdown",
      "metadata": {
        "id": "I7z3xFlcjamq"
      },
      "source": [
        "### Splitting Dataset for Training and Validation\n",
        "\n",
        "18k samples are used as training values and remaining are used for validation."
      ]
    },
    {
      "cell_type": "code",
      "metadata": {
        "ExecuteTime": {
          "end_time": "2021-03-10T17:30:55.218531Z",
          "start_time": "2021-03-10T17:30:55.207897Z"
        },
        "colab": {
          "base_uri": "https://localhost:8080/"
        },
        "id": "DiBogmm7tN43",
        "outputId": "1fb8896c-de2d-4fe5-ba0f-a9609c5231e3"
      },
      "source": [
        "splitIdx = 18000\n",
        "df_train = df[:splitIdx]\n",
        "df_test = df[splitIdx:]\n",
        "print(df_train.describe())\n",
        "print(df_test.describe())"
      ],
      "execution_count": 4,
      "outputs": [
        {
          "output_type": "stream",
          "text": [
            "                  E            pt           eta           phi\n",
            "count  18000.000000  18000.000000  18000.000000  18000.000000\n",
            "mean      12.491800     11.790967      0.005297     -0.004675\n",
            "std        1.057964      1.133202      0.478443      0.577177\n",
            "min       10.101346     10.002722     -1.550204     -0.999990\n",
            "25%       11.678603     10.765555     -0.302034     -0.507321\n",
            "50%       12.582711     11.713983      0.007108     -0.004254\n",
            "75%       13.344932     12.805257      0.312996      0.491112\n",
            "max       15.300219     14.553086      1.512952      0.999878\n",
            "                 E           pt          eta          phi\n",
            "count  4661.000000  4661.000000  4661.000000  4661.000000\n",
            "mean     12.506073    11.790090    -0.001907    -0.001116\n",
            "std       1.052452     1.126791     0.483137     0.572648\n",
            "min      10.129312    10.022181    -1.524997    -0.998767\n",
            "25%      11.693354    10.774463    -0.314153    -0.490073\n",
            "50%      12.575679    11.699712    -0.007462     0.005084\n",
            "75%      13.360514    12.812629     0.321977     0.496799\n",
            "max      15.024632    14.523211     1.510307     0.999079\n"
          ],
          "name": "stdout"
        }
      ]
    },
    {
      "cell_type": "markdown",
      "metadata": {
        "id": "hGpT5LURtN44"
      },
      "source": [
        "### Plotting the dataset"
      ]
    },
    {
      "cell_type": "code",
      "metadata": {
        "ExecuteTime": {
          "end_time": "2021-03-10T17:30:58.430078Z",
          "start_time": "2021-03-10T17:30:57.261632Z"
        },
        "colab": {
          "base_uri": "https://localhost:8080/",
          "height": 369
        },
        "id": "z9sBojdEtN45",
        "outputId": "a87775aa-188a-41c4-c241-ecd2fa421526"
      },
      "source": [
        "import matplotlib.pyplot as plt\n",
        "\n",
        "unit_list = ['[log(GeV)]', r'[rad/$\\pi$]', r'[rad/$\\pi$]', '[log(GeV)]']\n",
        "variable_list = [r'$p_T$', r'$\\eta$', r'$\\phi$', r'$E$']\n",
        "\n",
        "branches=[\"pt\",\"eta\",\"phi\",\"E\"]\n",
        "\n",
        "n_bins = 200\n",
        "\n",
        "f,a = plt.subplots(1,4, figsize=(10, 5))\n",
        "a = a.ravel()\n",
        "\n",
        "for kk, ax in enumerate(a):\n",
        "    n_hist_data, bin_edges, _ = ax.hist(df_train[branches[kk]], label='Input', alpha=0.95, bins=n_bins)\n",
        "    ax.set_xlabel(xlabel=variable_list[kk] + ' ' + unit_list[kk])\n",
        "    ax.set_ylabel('# of events')\n",
        "plt.tight_layout()\n",
        "plt.show()"
      ],
      "execution_count": 5,
      "outputs": [
        {
          "output_type": "display_data",
          "data": {
            "image/png": "[encoded data removed]",
            "text/plain": [
              "<Figure size 720x360 with 4 Axes>"
            ]
          },
          "metadata": {
            "tags": [],
            "needs_background": "light"
          }
        }
      ]
    },
    {
      "cell_type": "markdown",
      "metadata": {
        "id": "SL-vLsxkmlQ8"
      },
      "source": [
        "$\\eta$ seems to follow a normal distribution, $\\phi$ is pretty evenly distributed in the domain, $log(p_T)$ seems to fit in a bimodal distribution and $log(E)$ can be a skewed normal distribution."
      ]
    },
    {
      "cell_type": "markdown",
      "metadata": {
        "id": "h-NeLBgotN46"
      },
      "source": [
        "## Setting up the network"
      ]
    },
    {
      "cell_type": "markdown",
      "metadata": {
        "id": "1uu4p_KwtN46"
      },
      "source": [
        "### Preparing the data"
      ]
    },
    {
      "cell_type": "markdown",
      "metadata": {
        "id": "OEp7LtnktN48"
      },
      "source": [
        "Adding the two datasets as TensorDatasets to PyTorch Dataloader\n",
        "\n",
        "For data compression using autoencoders, the output of decoder and input of encoder must converge to equality under proper error limits."
      ]
    },
    {
      "cell_type": "code",
      "metadata": {
        "ExecuteTime": {
          "end_time": "2021-03-10T17:33:48.638298Z",
          "start_time": "2021-03-10T17:33:48.284797Z"
        },
        "id": "KD8HWLkytN48"
      },
      "source": [
        "import torch\n",
        "import torch.nn as nn\n",
        "import torch.optim as optim\n",
        "import torch.utils.data\n",
        "from torch.autograd import Variable\n",
        "\n",
        "from torch.utils.data import TensorDataset\n",
        "from torch.utils.data import DataLoader\n",
        "\n",
        "from fastai import learner\n",
        "from fastai.data import core\n",
        "\n",
        "train_x = df_train\n",
        "test_x = df_test\n",
        "train_y = train_x  # y = x since we are building an autoencoder\n",
        "test_y = test_x\n",
        "\n",
        "# Constructs a tensor object of the data and wraps them in a TensorDataset object.\n",
        "train_ds = TensorDataset(torch.tensor(train_x.values, dtype=torch.float), torch.tensor(train_y.values, dtype=torch.float))\n",
        "valid_ds = TensorDataset(torch.tensor(test_x.values, dtype=torch.float), torch.tensor(test_y.values, dtype=torch.float))"
      ],
      "execution_count": 7,
      "outputs": []
    },
    {
      "cell_type": "code",
      "metadata": {
        "ExecuteTime": {
          "end_time": "2021-03-10T17:34:12.055160Z",
          "start_time": "2021-03-10T17:34:12.049656Z"
        },
        "id": "Fonk-qVhtN49"
      },
      "source": [
        "bs = 512\n",
        "\n",
        "# Converts the TensorDataset into a DataLoader object and combines into one DataLoaders object (a basic wrapper\n",
        "# around several DataLoader objects). \n",
        "train_dl = DataLoader(train_ds, batch_size=bs, shuffle=True)\n",
        "valid_dl = DataLoader(valid_ds, batch_size=bs * 2)\n",
        "dls = core.DataLoaders(train_dl, valid_dl)"
      ],
      "execution_count": 8,
      "outputs": []
    },
    {
      "cell_type": "markdown",
      "metadata": {
        "id": "pXj6y2tVtN49"
      },
      "source": [
        "### Preparing the network"
      ]
    },
    {
      "cell_type": "markdown",
      "metadata": {
        "id": "9w4ajJ2GtN49"
      },
      "source": [
        "The network will compress the \"four-momentum\" of the jet particles from 4 values down to 3 values and then decode it back to 4 values to ensure minimum information loss.\n",
        "\n",
        "I am using the example notebook network as it is without any changes for now (except the class name)\n"
      ]
    },
    {
      "cell_type": "code",
      "metadata": {
        "ExecuteTime": {
          "end_time": "2021-03-10T17:37:08.079132Z",
          "start_time": "2021-03-10T17:36:55.650269Z"
        },
        "id": "0TUxd_1HtN49"
      },
      "source": [
        "class AE_3D_200_tanh(nn.Module):\n",
        "    def __init__(self, n_features=4):\n",
        "        super(AE_3D_200_tanh, self).__init__()\n",
        "        self.en1 = nn.Linear(n_features, 200)\n",
        "        self.en2 = nn.Linear(200, 200)\n",
        "        self.en3 = nn.Linear(200, 20)\n",
        "        self.en4 = nn.Linear(20, 3)\n",
        "        self.de1 = nn.Linear(3, 20)\n",
        "        self.de2 = nn.Linear(20, 200)\n",
        "        self.de3 = nn.Linear(200, 200)\n",
        "        self.de4 = nn.Linear(200, n_features)\n",
        "        self.tanh = nn.Tanh()\n",
        "\n",
        "    # this function compresses the data to 3 variable output\n",
        "    def encode(self, x):\n",
        "        return self.en4(self.tanh(self.en3(self.tanh(self.en2(self.tanh(self.en1(x)))))))\n",
        "\n",
        "    # this function decompresses the 3-variable encoded values to the \"four-momentum\" of jet particle\n",
        "    def decode(self, x):\n",
        "        return self.de4(self.tanh(self.de3(self.tanh(self.de2(self.tanh(self.de1(self.tanh(x))))))))\n",
        "\n",
        "    # performs the encoding on input and decodes it back. This should ideally be an identity function.\n",
        "    def forward(self, x):\n",
        "        z = self.encode(x)\n",
        "        return self.decode(z)\n",
        "\n",
        "    def describe(self):\n",
        "        return 'in-200-200-20-3-20-200-200-out'\n",
        "\n",
        "model = AE_3D_200_tanh()"
      ],
      "execution_count": 9,
      "outputs": []
    },
    {
      "cell_type": "markdown",
      "metadata": {
        "id": "e8a8a28ItN4-"
      },
      "source": [
        "We now have to pick a loss function - MSE loss is appropriate for a compression autoencoder since it reflects the [(input-output)/input] physical quantity that we want to minimize. "
      ]
    },
    {
      "cell_type": "code",
      "metadata": {
        "ExecuteTime": {
          "end_time": "2021-03-10T18:11:36.407756Z",
          "start_time": "2021-03-10T18:11:36.401117Z"
        },
        "id": "TCa0vKgCtN4-"
      },
      "source": [
        "from fastai.metrics import mse\n",
        "from fastai.callback.data import CudaCallback\n",
        "loss_func = nn.MSELoss()\n",
        "\n",
        "#bn_wd = False  # Don't use weight decay for batchnorm layers\n",
        "#true_wd = True  # weight decay will be used for all optimizers\n",
        "wd = 1e-6\n",
        "\n",
        "recorder = learner.Recorder()\n",
        "learn = learner.Learner(dls, model=model, wd=wd, loss_func=loss_func, cbs=[recorder, CudaCallback])\n",
        "#was: learn = basic_train.Learner(data=db, model=model, loss_func=loss_func, wd=wd, callback_fns=ActivationStats, bn_wd=bn_wd, true_wd=true_wd)"
      ],
      "execution_count": 10,
      "outputs": []
    },
    {
      "cell_type": "markdown",
      "metadata": {
        "id": "iTGAS_sitN4_"
      },
      "source": [
        "### Learning Rate"
      ]
    },
    {
      "cell_type": "code",
      "metadata": {
        "colab": {
          "base_uri": "https://localhost:8080/",
          "height": 320
        },
        "id": "V0TPGDvltN4_",
        "outputId": "77ab8f1d-f99f-455f-adcd-71a4ecf468ac"
      },
      "source": [
        "from fastai.callback import schedule\n",
        "\n",
        "lr_min, lr_steep = learn.lr_find()\n",
        "\n",
        "print('Learning rate with the minimum loss:', lr_min)\n",
        "print('Learning rate with the steepest gradient:', lr_steep)"
      ],
      "execution_count": 11,
      "outputs": [
        {
          "output_type": "stream",
          "text": [
            "Learning rate with the minimum loss: 0.03630780577659607\n",
            "Learning rate with the steepest gradient: 0.005248074419796467\n"
          ],
          "name": "stdout"
        },
        {
          "output_type": "display_data",
          "data": {
            "image/png": "[encoded data removed]",
            "text/plain": [
              "<Figure size 432x288 with 1 Axes>"
            ]
          },
          "metadata": {
            "tags": [],
            "needs_background": "light"
          }
        }
      ]
    },
    {
      "cell_type": "markdown",
      "metadata": {
        "id": "AKrq7LF-tN5A"
      },
      "source": [
        "### Training\n",
        "\n",
        "I choose maximum learning rate as $lr\\_min / 10$ and further reduce LR on plateau of validation loss to avoid overfitting and fast learning at same time."
      ]
    },
    {
      "cell_type": "code",
      "metadata": {
        "colab": {
          "base_uri": "https://localhost:8080/"
        },
        "id": "Q7nGUKt-tN5A",
        "outputId": "366c5852-4496-4c21-94d0-9bc970269704"
      },
      "source": [
        "import time\n",
        "from fastai.callback.tracker import *\n",
        "\n",
        "start = time.perf_counter() # Starts timer\n",
        "learn.fit_one_cycle(n_epoch=200, lr_max=lr_min/10.0, cbs=ReduceLROnPlateau(monitor='valid_loss', min_delta=0.1, patience=2))\n",
        "end = time.perf_counter() # Ends timer\n",
        "delta_t = end - start\n",
        "print('Training took', delta_t, 'seconds')"
      ],
      "execution_count": 12,
      "outputs": [
        {
          "output_type": "stream",
          "text": [
            "[0, 67.09518432617188, 60.28409957885742, '00:00']\n",
            "[0, 67.09518432617188, 60.28409957885742, '00:00']\n",
            "[1, 55.246543884277344, 39.95924377441406, '00:00']\n",
            "[1, 55.246543884277344, 39.95924377441406, '00:00']\n",
            "[2, 39.58370590209961, 19.714000701904297, '00:00']\n",
            "[2, 39.58370590209961, 19.714000701904297, '00:00']\n",
            "[3, 24.763071060180664, 7.8750410079956055, '00:00']\n",
            "[3, 24.763071060180664, 7.8750410079956055, '00:00']\n",
            "[4, 14.111189842224121, 2.7997374534606934, '00:00']\n",
            "[4, 14.111189842224121, 2.7997374534606934, '00:00']\n",
            "[5, 7.598886489868164, 1.0621498823165894, '00:00']\n",
            "[5, 7.598886489868164, 1.0621498823165894, '00:00']\n",
            "[6, 4.078959941864014, 0.7408028841018677, '00:00']\n",
            "[6, 4.078959941864014, 0.7408028841018677, '00:00']\n",
            "[7, 2.3520114421844482, 0.738571286201477, '00:00']\n",
            "[7, 2.3520114421844482, 0.738571286201477, '00:00']\n",
            "[8, 1.519620418548584, 0.7349541187286377, '00:00']\n",
            "[8, 1.519620418548584, 0.7349541187286377, '00:00']\n",
            "Epoch 8: reducing lr to 4.1490498971955765e-05\n",
            "[9, 1.1176851987838745, 0.7348533272743225, '00:00']\n",
            "[9, 1.1176851987838745, 0.7348533272743225, '00:00']\n",
            "[10, 0.9223127961158752, 0.73475581407547, '00:00']\n",
            "[10, 0.9223127961158752, 0.73475581407547, '00:00']\n",
            "Epoch 10: reducing lr to 5.4323809648615474e-05\n",
            "[11, 0.8281286358833313, 0.7356434464454651, '00:00']\n",
            "[11, 0.8281286358833313, 0.7356434464454651, '00:00']\n",
            "[12, 0.7839552760124207, 0.7352878451347351, '00:00']\n",
            "[12, 0.7839552760124207, 0.7352878451347351, '00:00']\n",
            "Epoch 12: reducing lr to 6.92779045384084e-05\n",
            "[13, 0.7613028287887573, 0.7347710132598877, '00:00']\n",
            "[13, 0.7613028287887573, 0.7347710132598877, '00:00']\n",
            "[14, 0.751882791519165, 0.7347570657730103, '00:00']\n",
            "[14, 0.751882791519165, 0.7347570657730103, '00:00']\n",
            "Epoch 14: reducing lr to 8.611693760304628e-05\n",
            "[15, 0.7469537854194641, 0.7349774241447449, '00:00']\n",
            "[15, 0.7469537854194641, 0.7349774241447449, '00:00']\n",
            "[16, 0.7440056204795837, 0.7350102066993713, '00:00']\n",
            "[16, 0.7440056204795837, 0.7350102066993713, '00:00']\n",
            "Epoch 16: reducing lr to 0.00010457536681704377\n",
            "[17, 0.7427550554275513, 0.735694408416748, '00:00']\n",
            "[17, 0.7427550554275513, 0.735694408416748, '00:00']\n",
            "[18, 0.74251788854599, 0.7350377440452576, '00:00']\n",
            "[18, 0.74251788854599, 0.7350377440452576, '00:00']\n",
            "Epoch 18: reducing lr to 0.00012436206437747838\n",
            "[19, 0.7444136142730713, 0.734921932220459, '00:00']\n",
            "[19, 0.7444136142730713, 0.734921932220459, '00:00']\n",
            "[20, 0.7455199360847473, 0.7355647683143616, '00:00']\n",
            "[20, 0.7455199360847473, 0.7355647683143616, '00:00']\n",
            "Epoch 20: reducing lr to 0.00014516499555784572\n",
            "[21, 0.7446224689483643, 0.735923171043396, '00:00']\n",
            "[21, 0.7446224689483643, 0.735923171043396, '00:00']\n",
            "[22, 0.7430216073989868, 0.7355416417121887, '00:00']\n",
            "[22, 0.7430216073989868, 0.7355416417121887, '00:00']\n",
            "Epoch 22: reducing lr to 0.000166656085843066\n",
            "[23, 0.7426592707633972, 0.7034425735473633, '00:00']\n",
            "[23, 0.7426592707633972, 0.7034425735473633, '00:00']\n",
            "[24, 0.6277186274528503, 0.3558918833732605, '00:00']\n",
            "[24, 0.6277186274528503, 0.3558918833732605, '00:00']\n",
            "[25, 0.4585413336753845, 0.26495715975761414, '00:00']\n",
            "[25, 0.4585413336753845, 0.26495715975761414, '00:00']\n",
            "[26, 0.33870449662208557, 0.19893446564674377, '00:00']\n",
            "[26, 0.33870449662208557, 0.19893446564674377, '00:00']\n",
            "[27, 0.25693660974502563, 0.15974996984004974, '00:00']\n",
            "[27, 0.25693660974502563, 0.15974996984004974, '00:00']\n",
            "[28, 0.228160560131073, 0.16155485808849335, '00:00']\n",
            "[28, 0.228160560131073, 0.16155485808849335, '00:00']\n",
            "Epoch 28: reducing lr to 0.00023184696501547531\n",
            "[29, 0.19361938536167145, 0.1500776708126068, '00:00']\n",
            "[29, 0.19361938536167145, 0.1500776708126068, '00:00']\n",
            "[30, 0.18861043453216553, 0.16866688430309296, '00:00']\n",
            "[30, 0.18861043453216553, 0.16866688430309296, '00:00']\n",
            "Epoch 30: reducing lr to 0.00025267348832874894\n",
            "[31, 0.16858814656734467, 0.26610156893730164, '00:00']\n",
            "[31, 0.16858814656734467, 0.26610156893730164, '00:00']\n",
            "[32, 0.1617501974105835, 0.13341890275478363, '00:00']\n",
            "[32, 0.1617501974105835, 0.13341890275478363, '00:00']\n",
            "Epoch 32: reducing lr to 0.0002724927284237797\n",
            "[33, 0.1551077663898468, 0.2951227128505707, '00:00']\n",
            "[33, 0.1551077663898468, 0.2951227128505707, '00:00']\n",
            "[34, 0.1678462028503418, 0.26578113436698914, '00:00']\n",
            "[34, 0.1678462028503418, 0.26578113436698914, '00:00']\n",
            "Epoch 34: reducing lr to 0.0002909920920870026\n",
            "[35, 0.15283851325511932, 0.11070375144481659, '00:00']\n",
            "[35, 0.15283851325511932, 0.11070375144481659, '00:00']\n",
            "[36, 0.13662296533584595, 0.1642807126045227, '00:00']\n",
            "[36, 0.13662296533584595, 0.1642807126045227, '00:00']\n",
            "Epoch 36: reducing lr to 0.0003078798091617028\n",
            "[37, 0.13860753178596497, 0.1063871830701828, '00:00']\n",
            "[37, 0.13860753178596497, 0.1063871830701828, '00:00']\n",
            "[38, 0.1298414170742035, 0.21548670530319214, '00:00']\n",
            "[38, 0.1298414170742035, 0.21548670530319214, '00:00']\n",
            "Epoch 38: reducing lr to 0.00032288960023913306\n",
            "[39, 0.15099215507507324, 0.12516622245311737, '00:00']\n",
            "[39, 0.15099215507507324, 0.12516622245311737, '00:00']\n",
            "[40, 0.13509619235992432, 0.10307558625936508, '00:00']\n",
            "[40, 0.13509619235992432, 0.10307558625936508, '00:00']\n",
            "Epoch 40: reducing lr to 0.00033578470772472994\n",
            "[41, 0.145136296749115, 0.1932595670223236, '00:00']\n",
            "[41, 0.145136296749115, 0.1932595670223236, '00:00']\n",
            "[42, 0.12228229641914368, 0.10100755840539932, '00:00']\n",
            "[42, 0.12228229641914368, 0.10100755840539932, '00:00']\n",
            "Epoch 42: reducing lr to 0.00034636180623224926\n",
            "[43, 0.1060611754655838, 0.1875944584608078, '00:00']\n",
            "[43, 0.1060611754655838, 0.1875944584608078, '00:00']\n",
            "[44, 0.10410048812627792, 0.08050475269556046, '00:00']\n",
            "[44, 0.10410048812627792, 0.08050475269556046, '00:00']\n",
            "[45, 0.11280640214681625, 0.28330522775650024, '00:00']\n",
            "[45, 0.11280640214681625, 0.28330522775650024, '00:00']\n",
            "[46, 0.1026650220155716, 0.0489465668797493, '00:00']\n",
            "[46, 0.1026650220155716, 0.0489465668797493, '00:00']\n",
            "Epoch 46: reducing lr to 0.00035993386565117953\n",
            "[47, 0.07825656235218048, 0.04176650941371918, '00:00']\n",
            "[47, 0.07825656235218048, 0.04176650941371918, '00:00']\n",
            "[48, 0.07699660956859589, 0.04897502809762955, '00:00']\n",
            "[48, 0.07699660956859589, 0.04897502809762955, '00:00']\n",
            "Epoch 48: reducing lr to 0.00036271479698729846\n",
            "[49, 0.07847044616937637, 0.057213105261325836, '00:00']\n",
            "[49, 0.07847044616937637, 0.057213105261325836, '00:00']\n",
            "[50, 0.06357157230377197, 0.07285154610872269, '00:00']\n",
            "[50, 0.06357157230377197, 0.07285154610872269, '00:00']\n",
            "Epoch 50: reducing lr to 0.0003630404246701973\n",
            "[51, 0.06058543547987938, 0.058239422738552094, '00:00']\n",
            "[51, 0.06058543547987938, 0.058239422738552094, '00:00']\n",
            "[52, 0.05606469139456749, 0.03694748505949974, '00:00']\n",
            "[52, 0.05606469139456749, 0.03694748505949974, '00:00']\n",
            "Epoch 52: reducing lr to 0.00036272643662251067\n",
            "[53, 0.05427263677120209, 0.07403284311294556, '00:00']\n",
            "[53, 0.05427263677120209, 0.07403284311294556, '00:00']\n",
            "[54, 0.051001716405153275, 0.02659539133310318, '00:00']\n",
            "[54, 0.051001716405153275, 0.02659539133310318, '00:00']\n",
            "Epoch 54: reducing lr to 0.00036209458820058116\n",
            "[55, 0.04795094579458237, 0.02702832594513893, '00:00']\n",
            "[55, 0.04795094579458237, 0.02702832594513893, '00:00']\n",
            "[56, 0.0472726970911026, 0.02161227911710739, '00:00']\n",
            "[56, 0.0472726970911026, 0.02161227911710739, '00:00']\n",
            "Epoch 56: reducing lr to 0.0003611459842966284\n",
            "[57, 0.04363538324832916, 0.030865829437971115, '00:00']\n",
            "[57, 0.04363538324832916, 0.030865829437971115, '00:00']\n",
            "[58, 0.03814050555229187, 0.01679355278611183, '00:00']\n",
            "[58, 0.03814050555229187, 0.01679355278611183, '00:00']\n",
            "Epoch 58: reducing lr to 0.00035988229497709544\n",
            "[59, 0.03716815635561943, 0.03151170536875725, '00:00']\n",
            "[59, 0.03716815635561943, 0.03151170536875725, '00:00']\n",
            "[60, 0.03842626512050629, 0.044196516275405884, '00:00']\n",
            "[60, 0.03842626512050629, 0.044196516275405884, '00:00']\n",
            "Epoch 60: reducing lr to 0.0003583057347488633\n",
            "[61, 0.04141586646437645, 0.03922149911522865, '00:00']\n",
            "[61, 0.04141586646437645, 0.03922149911522865, '00:00']\n",
            "[62, 0.03589120879769325, 0.03893977403640747, '00:00']\n",
            "[62, 0.03589120879769325, 0.03893977403640747, '00:00']\n",
            "Epoch 62: reducing lr to 0.0003564190637274726\n",
            "[63, 0.032022736966609955, 0.013477115891873837, '00:00']\n",
            "[63, 0.032022736966609955, 0.013477115891873837, '00:00']\n",
            "[64, 0.033109817653894424, 0.019754210487008095, '00:00']\n",
            "[64, 0.033109817653894424, 0.019754210487008095, '00:00']\n",
            "Epoch 64: reducing lr to 0.0003542256023097129\n",
            "[65, 0.030786706134676933, 0.0317307785153389, '00:00']\n",
            "[65, 0.030786706134676933, 0.0317307785153389, '00:00']\n",
            "[66, 0.028937477618455887, 0.014458819292485714, '00:00']\n",
            "[66, 0.028937477618455887, 0.014458819292485714, '00:00']\n",
            "Epoch 66: reducing lr to 0.0003517291937254244\n",
            "[67, 0.028380872681736946, 0.03734593838453293, '00:00']\n",
            "[67, 0.028380872681736946, 0.03734593838453293, '00:00']\n",
            "[68, 0.028306886553764343, 0.033721793442964554, '00:00']\n",
            "[68, 0.028306886553764343, 0.033721793442964554, '00:00']\n",
            "Epoch 68: reducing lr to 0.00034893420929346647\n",
            "[69, 0.032606422901153564, 0.09817122668027878, '00:00']\n",
            "[69, 0.032606422901153564, 0.09817122668027878, '00:00']\n",
            "[70, 0.027163121849298477, 0.010991496033966541, '00:00']\n",
            "[70, 0.027163121849298477, 0.010991496033966541, '00:00']\n",
            "Epoch 70: reducing lr to 0.00034584556797280405\n",
            "[71, 0.026552703231573105, 0.01040061004459858, '00:00']\n",
            "[71, 0.026552703231573105, 0.01040061004459858, '00:00']\n",
            "[72, 0.024572230875492096, 0.0060824123211205006, '00:00']\n",
            "[72, 0.024572230875492096, 0.0060824123211205006, '00:00']\n",
            "Epoch 72: reducing lr to 0.0003424686808853579\n",
            "[73, 0.02397487685084343, 0.02089606784284115, '00:00']\n",
            "[73, 0.02397487685084343, 0.02089606784284115, '00:00']\n",
            "[74, 0.02064654603600502, 0.035012830048799515, '00:00']\n",
            "[74, 0.02064654603600502, 0.035012830048799515, '00:00']\n",
            "Epoch 74: reducing lr to 0.0003388094594925481\n",
            "[75, 0.030794955790042877, 0.011134220287203789, '00:00']\n",
            "[75, 0.030794955790042877, 0.011134220287203789, '00:00']\n",
            "[76, 0.026802295818924904, 0.00902052316814661, '00:00']\n",
            "[76, 0.026802295818924904, 0.00902052316814661, '00:00']\n",
            "Epoch 76: reducing lr to 0.000334874347833212\n",
            "[77, 0.020242586731910706, 0.07703441381454468, '00:00']\n",
            "[77, 0.020242586731910706, 0.07703441381454468, '00:00']\n",
            "[78, 0.021433154121041298, 0.04637792706489563, '00:00']\n",
            "[78, 0.021433154121041298, 0.04637792706489563, '00:00']\n",
            "Epoch 78: reducing lr to 0.00033067023761855675\n",
            "[79, 0.019484827294945717, 0.007208018098026514, '00:00']\n",
            "[79, 0.019484827294945717, 0.007208018098026514, '00:00']\n",
            "[80, 0.017774926498532295, 0.023197371512651443, '00:00']\n",
            "[80, 0.017774926498532295, 0.023197371512651443, '00:00']\n",
            "Epoch 80: reducing lr to 0.00032620448886989554\n",
            "[81, 0.01820531114935875, 0.009476256556808949, '00:00']\n",
            "[81, 0.01820531114935875, 0.009476256556808949, '00:00']\n",
            "[82, 0.02375064603984356, 0.010258317925035954, '00:00']\n",
            "[82, 0.02375064603984356, 0.010258317925035954, '00:00']\n",
            "Epoch 82: reducing lr to 0.0003214849659537929\n",
            "[83, 0.021202892065048218, 0.013356270268559456, '00:00']\n",
            "[83, 0.021202892065048218, 0.013356270268559456, '00:00']\n",
            "[84, 0.022888924926519394, 0.01986085996031761, '00:00']\n",
            "[84, 0.022888924926519394, 0.01986085996031761, '00:00']\n",
            "Epoch 84: reducing lr to 0.00031651993396313407\n",
            "[85, 0.01809787191450596, 0.024948984384536743, '00:00']\n",
            "[85, 0.01809787191450596, 0.024948984384536743, '00:00']\n",
            "[86, 0.016502926126122475, 0.024195382371544838, '00:00']\n",
            "[86, 0.016502926126122475, 0.024195382371544838, '00:00']\n",
            "Epoch 86: reducing lr to 0.0003113180913496195\n",
            "[87, 0.02055295929312706, 0.014182333834469318, '00:00']\n",
            "[87, 0.02055295929312706, 0.014182333834469318, '00:00']\n",
            "[88, 0.017730379477143288, 0.013469409197568893, '00:00']\n",
            "[88, 0.017730379477143288, 0.013469409197568893, '00:00']\n",
            "Epoch 88: reducing lr to 0.0003058885809543464\n",
            "[89, 0.01619838736951351, 0.004562666639685631, '00:00']\n",
            "[89, 0.01619838736951351, 0.004562666639685631, '00:00']\n",
            "[90, 0.014974943362176418, 0.0072837513871490955, '00:00']\n",
            "[90, 0.014974943362176418, 0.0072837513871490955, '00:00']\n",
            "Epoch 90: reducing lr to 0.0003002409287337785\n",
            "[91, 0.011281567625701427, 0.008803531527519226, '00:00']\n",
            "[91, 0.011281567625701427, 0.008803531527519226, '00:00']\n",
            "[92, 0.019039662554860115, 0.00758233992382884, '00:00']\n",
            "[92, 0.019039662554860115, 0.00758233992382884, '00:00']\n",
            "Epoch 92: reducing lr to 0.0002943850233135455\n",
            "[93, 0.012401233427226543, 0.03050345927476883, '00:00']\n",
            "[93, 0.012401233427226543, 0.03050345927476883, '00:00']\n",
            "[94, 0.010576958768069744, 0.003113914281129837, '00:00']\n",
            "[94, 0.010576958768069744, 0.003113914281129837, '00:00']\n",
            "Epoch 94: reducing lr to 0.00028833116409608873\n",
            "[95, 0.015019070357084274, 0.008158786222338676, '00:00']\n",
            "[95, 0.015019070357084274, 0.008158786222338676, '00:00']\n",
            "[96, 0.01060925517231226, 0.04882841929793358, '00:00']\n",
            "[96, 0.01060925517231226, 0.04882841929793358, '00:00']\n",
            "Epoch 96: reducing lr to 0.00028208995872735083\n",
            "[97, 0.013023871928453445, 0.01623472571372986, '00:00']\n",
            "[97, 0.013023871928453445, 0.01623472571372986, '00:00']\n",
            "[98, 0.01082161907106638, 0.0058988649398088455, '00:00']\n",
            "[98, 0.01082161907106638, 0.0058988649398088455, '00:00']\n",
            "Epoch 98: reducing lr to 0.0002756723418481642\n",
            "[99, 0.01845443807542324, 0.0052931178361177444, '00:00']\n",
            "[99, 0.01845443807542324, 0.0052931178361177444, '00:00']\n",
            "[100, 0.013941565528512001, 0.004834297578781843, '00:00']\n",
            "[100, 0.013941565528512001, 0.004834297578781843, '00:00']\n",
            "Epoch 100: reducing lr to 0.0002690896008025362\n",
            "[101, 0.0109330452978611, 0.0029530846513807774, '00:00']\n",
            "[101, 0.0109330452978611, 0.0029530846513807774, '00:00']\n",
            "[102, 0.00820076186209917, 0.023944996297359467, '00:00']\n",
            "[102, 0.00820076186209917, 0.023944996297359467, '00:00']\n",
            "Epoch 102: reducing lr to 0.00026235326978159566\n",
            "[103, 0.008573921397328377, 0.01000234205275774, '00:00']\n",
            "[103, 0.008573921397328377, 0.01000234205275774, '00:00']\n",
            "[104, 0.009566379711031914, 0.011484303511679173, '00:00']\n",
            "[104, 0.009566379711031914, 0.011484303511679173, '00:00']\n",
            "Epoch 104: reducing lr to 0.00025547516657643663\n",
            "[105, 0.008509427309036255, 0.004781018942594528, '00:00']\n",
            "[105, 0.008509427309036255, 0.004781018942594528, '00:00']\n",
            "[106, 0.006631727330386639, 0.003716576611623168, '00:00']\n",
            "[106, 0.006631727330386639, 0.003716576611623168, '00:00']\n",
            "Epoch 106: reducing lr to 0.00024846735769426444\n",
            "[107, 0.011572595685720444, 0.024664942175149918, '00:00']\n",
            "[107, 0.011572595685720444, 0.024664942175149918, '00:00']\n",
            "[108, 0.00806583371013403, 0.0020976413507014513, '00:00']\n",
            "[108, 0.00806583371013403, 0.0020976413507014513, '00:00']\n",
            "Epoch 108: reducing lr to 0.00024134208904548612\n",
            "[109, 0.005171641707420349, 0.0028151448350399733, '00:00']\n",
            "[109, 0.005171641707420349, 0.0028151448350399733, '00:00']\n",
            "[110, 0.009715931490063667, 0.00815992709249258, '00:00']\n",
            "[110, 0.009715931490063667, 0.00815992709249258, '00:00']\n",
            "Epoch 110: reducing lr to 0.00023411195629143266\n",
            "[111, 0.010616409592330456, 0.0025065343361347914, '00:00']\n",
            "[111, 0.010616409592330456, 0.0025065343361347914, '00:00']\n",
            "[112, 0.006902902387082577, 0.006911696866154671, '00:00']\n",
            "[112, 0.006902902387082577, 0.006911696866154671, '00:00']\n",
            "Epoch 112: reducing lr to 0.0002267895961189998\n",
            "[113, 0.007992253638803959, 0.003379480680450797, '00:00']\n",
            "[113, 0.007992253638803959, 0.003379480680450797, '00:00']\n",
            "[114, 0.005132362712174654, 0.0023199121933430433, '00:00']\n",
            "[114, 0.005132362712174654, 0.0023199121933430433, '00:00']\n",
            "Epoch 114: reducing lr to 0.0002193878544115867\n",
            "[115, 0.004499946255236864, 0.0021918939892202616, '00:00']\n",
            "[115, 0.004499946255236864, 0.0021918939892202616, '00:00']\n",
            "[116, 0.005357959307730198, 0.0011001747334375978, '00:00']\n",
            "[116, 0.005357959307730198, 0.0011001747334375978, '00:00']\n",
            "Epoch 116: reducing lr to 0.00021191971631451327\n",
            "[117, 0.003740791231393814, 0.0012428602203726768, '00:00']\n",
            "[117, 0.003740791231393814, 0.0012428602203726768, '00:00']\n",
            "[118, 0.004750175401568413, 0.003910128492861986, '00:00']\n",
            "[118, 0.004750175401568413, 0.003910128492861986, '00:00']\n",
            "Epoch 118: reducing lr to 0.00020439828345470633\n",
            "[119, 0.004545404575765133, 0.004624666180461645, '00:00']\n",
            "[119, 0.004545404575765133, 0.004624666180461645, '00:00']\n",
            "[120, 0.003549293614923954, 0.00392010435461998, '00:00']\n",
            "[120, 0.003549293614923954, 0.00392010435461998, '00:00']\n",
            "Epoch 120: reducing lr to 0.00019683670014713703\n",
            "[121, 0.0039341445080935955, 0.009907068684697151, '00:00']\n",
            "[121, 0.0039341445080935955, 0.009907068684697151, '00:00']\n",
            "[122, 0.0037822811864316463, 0.002778894267976284, '00:00']\n",
            "[122, 0.0037822811864316463, 0.002778894267976284, '00:00']\n",
            "Epoch 122: reducing lr to 0.0001892483333463952\n",
            "[123, 0.005911358166486025, 0.003489153226837516, '00:00']\n",
            "[123, 0.005911358166486025, 0.003489153226837516, '00:00']\n",
            "[124, 0.003827866865321994, 0.0013858089223504066, '00:00']\n",
            "[124, 0.003827866865321994, 0.0013858089223504066, '00:00']\n",
            "Epoch 124: reducing lr to 0.00018164644501658325\n",
            "[125, 0.002870820928364992, 0.003184093628078699, '00:00']\n",
            "[125, 0.002870820928364992, 0.003184093628078699, '00:00']\n",
            "[126, 0.0035772519186139107, 0.0017876564525067806, '00:00']\n",
            "[126, 0.0035772519186139107, 0.0017876564525067806, '00:00']\n",
            "Epoch 126: reducing lr to 0.0001740443884097802\n",
            "[127, 0.0031397466082125902, 0.002106037689372897, '00:00']\n",
            "[127, 0.0031397466082125902, 0.002106037689372897, '00:00']\n",
            "[128, 0.0025671999901533127, 0.004377896431833506, '00:00']\n",
            "[128, 0.0025671999901533127, 0.004377896431833506, '00:00']\n",
            "Epoch 128: reducing lr to 0.00016645546611205626\n",
            "[129, 0.0031190013978630304, 0.00123799208085984, '00:00']\n",
            "[129, 0.0031190013978630304, 0.00123799208085984, '00:00']\n",
            "[130, 0.002194561529904604, 0.001939633977599442, '00:00']\n",
            "[130, 0.002194561529904604, 0.001939633977599442, '00:00']\n",
            "Epoch 130: reducing lr to 0.00015889300864320278\n",
            "[131, 0.00221586087718606, 0.0020972872152924538, '00:00']\n",
            "[131, 0.00221586087718606, 0.0020972872152924538, '00:00']\n",
            "[132, 0.0023081903345882893, 0.0033057222608476877, '00:00']\n",
            "[132, 0.0023081903345882893, 0.0033057222608476877, '00:00']\n",
            "Epoch 132: reducing lr to 0.00015137028309805903\n",
            "[133, 0.0018987926887348294, 0.0010141405509784818, '00:00']\n",
            "[133, 0.0018987926887348294, 0.0010141405509784818, '00:00']\n",
            "[134, 0.0018548006191849709, 0.0023216980043798685, '00:00']\n",
            "[134, 0.0018548006191849709, 0.0023216980043798685, '00:00']\n",
            "Epoch 134: reducing lr to 0.0001439004203588052\n",
            "[135, 0.0017750817351043224, 0.0019603045657277107, '00:00']\n",
            "[135, 0.0017750817351043224, 0.0019603045657277107, '00:00']\n",
            "[136, 0.001941592781804502, 0.00091163459001109, '00:00']\n",
            "[136, 0.001941592781804502, 0.00091163459001109, '00:00']\n",
            "Epoch 136: reducing lr to 0.0001364966586289281\n",
            "[137, 0.0016126468544825912, 0.0010380016174167395, '00:00']\n",
            "[137, 0.0016126468544825912, 0.0010380016174167395, '00:00']\n",
            "[138, 0.0015986423240974545, 0.002546860370784998, '00:00']\n",
            "[138, 0.0015986423240974545, 0.002546860370784998, '00:00']\n",
            "Epoch 138: reducing lr to 0.00012917191955608628\n",
            "[139, 0.001921231159940362, 0.0018727002898231149, '00:00']\n",
            "[139, 0.001921231159940362, 0.0018727002898231149, '00:00']\n",
            "[140, 0.001653916435316205, 0.001017319387756288, '00:00']\n",
            "[140, 0.001653916435316205, 0.001017319387756288, '00:00']\n",
            "Epoch 140: reducing lr to 0.00012193905319707074\n",
            "[141, 0.00244915927760303, 0.004577999468892813, '00:00']\n",
            "[141, 0.00244915927760303, 0.004577999468892813, '00:00']\n",
            "[142, 0.005005050916224718, 0.007449369411915541, '00:00']\n",
            "[142, 0.005005050916224718, 0.007449369411915541, '00:00']\n",
            "Epoch 142: reducing lr to 0.00011481074843302102\n",
            "[143, 0.008157096803188324, 0.010209179483354092, '00:00']\n",
            "[143, 0.008157096803188324, 0.010209179483354092, '00:00']\n",
            "[144, 0.006578465923666954, 0.003313605673611164, '00:00']\n",
            "[144, 0.006578465923666954, 0.003313605673611164, '00:00']\n",
            "Epoch 144: reducing lr to 0.00010779951070885863\n",
            "[145, 0.003986786585301161, 0.0012551172403618693, '00:00']\n",
            "[145, 0.003986786585301161, 0.0012551172403618693, '00:00']\n",
            "[146, 0.002656626747921109, 0.001870531588792801, '00:00']\n",
            "[146, 0.002656626747921109, 0.001870531588792801, '00:00']\n",
            "Epoch 146: reducing lr to 0.0001009176096373804\n",
            "[147, 0.0019756159745156765, 0.0013832522090524435, '00:00']\n",
            "[147, 0.0019756159745156765, 0.0013832522090524435, '00:00']\n",
            "[148, 0.0015960464952513576, 0.0011417934438213706, '00:00']\n",
            "[148, 0.0015960464952513576, 0.0011417934438213706, '00:00']\n",
            "Epoch 148: reducing lr to 9.417717990830412e-05\n",
            "[149, 0.0014135673409327865, 0.0008265107753686607, '00:00']\n",
            "[149, 0.0014135673409327865, 0.0008265107753686607, '00:00']\n",
            "[150, 0.001201780280098319, 0.0012759668752551079, '00:00']\n",
            "[150, 0.001201780280098319, 0.0012759668752551079, '00:00']\n",
            "Epoch 150: reducing lr to 8.759001544060862e-05\n",
            "[151, 0.0010167746804654598, 0.0006079013692215085, '00:00']\n",
            "[151, 0.0010167746804654598, 0.0006079013692215085, '00:00']\n",
            "[152, 0.0009016474359668791, 0.0004557509964797646, '00:00']\n",
            "[152, 0.0009016474359668791, 0.0004557509964797646, '00:00']\n",
            "Epoch 152: reducing lr to 8.116767233706549e-05\n",
            "[153, 0.0009961732430383563, 0.0009479512227699161, '00:00']\n",
            "[153, 0.0009961732430383563, 0.0009479512227699161, '00:00']\n",
            "[154, 0.0010271493811160326, 0.0005733299185521901, '00:00']\n",
            "[154, 0.0010271493811160326, 0.0005733299185521901, '00:00']\n",
            "Epoch 154: reducing lr to 7.492141754831825e-05\n",
            "[155, 0.0008341873763129115, 0.0006368984468281269, '00:00']\n",
            "[155, 0.0008341873763129115, 0.0006368984468281269, '00:00']\n",
            "[156, 0.0008919857791624963, 0.001044302829541266, '00:00']\n",
            "[156, 0.0008919857791624963, 0.001044302829541266, '00:00']\n",
            "Epoch 156: reducing lr to 6.886220910686035e-05\n",
            "[157, 0.0009168916149064898, 0.0010582424001768231, '00:00']\n",
            "[157, 0.0009168916149064898, 0.0010582424001768231, '00:00']\n",
            "[158, 0.0009672564920037985, 0.0014595284592360258, '00:00']\n",
            "[158, 0.0009672564920037985, 0.0014595284592360258, '00:00']\n",
            "Epoch 158: reducing lr to 6.300065115714269e-05\n",
            "[159, 0.0012336265062913299, 0.0009191837743856013, '00:00']\n",
            "[159, 0.0012336265062913299, 0.0009191837743856013, '00:00']\n",
            "[160, 0.0014290163526311517, 0.0018664300441741943, '00:00']\n",
            "[160, 0.0014290163526311517, 0.0018664300441741943, '00:00']\n",
            "Epoch 160: reducing lr to 5.7347079242533886e-05\n",
            "[161, 0.0015759016387164593, 0.001725794281810522, '00:00']\n",
            "[161, 0.0015759016387164593, 0.001725794281810522, '00:00']\n",
            "[162, 0.0014926937874406576, 0.001364748808555305, '00:00']\n",
            "[162, 0.0014926937874406576, 0.001364748808555305, '00:00']\n",
            "Epoch 162: reducing lr to 5.191138497760554e-05\n",
            "[163, 0.0013404315104708076, 0.0013483647489920259, '00:00']\n",
            "[163, 0.0013404315104708076, 0.0013483647489920259, '00:00']\n",
            "[164, 0.001375118037685752, 0.0017782369395717978, '00:00']\n",
            "[164, 0.001375118037685752, 0.0017782369395717978, '00:00']\n",
            "Epoch 164: reducing lr to 4.670310439897356e-05\n",
            "[165, 0.0012990025570616126, 0.0007310780929401517, '00:00']\n",
            "[165, 0.0012990025570616126, 0.0007310780929401517, '00:00']\n",
            "[166, 0.0010760293807834387, 0.0010958968196064234, '00:00']\n",
            "[166, 0.0010760293807834387, 0.0010958968196064234, '00:00']\n",
            "Epoch 166: reducing lr to 4.173137458313358e-05\n",
            "[167, 0.0011778773041442037, 0.001217684126459062, '00:00']\n",
            "[167, 0.0011778773041442037, 0.001217684126459062, '00:00']\n",
            "[168, 0.0009311127359978855, 0.0005393428145907819, '00:00']\n",
            "[168, 0.0009311127359978855, 0.0005393428145907819, '00:00']\n",
            "Epoch 168: reducing lr to 3.700491761695407e-05\n",
            "[169, 0.0008133358205668628, 0.0007741364534012973, '00:00']\n",
            "[169, 0.0008133358205668628, 0.0007741364534012973, '00:00']\n",
            "[170, 0.0007029206608422101, 0.0005738173495046794, '00:00']\n",
            "[170, 0.0007029206608422101, 0.0005738173495046794, '00:00']\n",
            "Epoch 170: reducing lr to 3.253198646264691e-05\n",
            "[171, 0.0005887511069886386, 0.00044511747546494007, '00:00']\n",
            "[171, 0.0005887511069886386, 0.00044511747546494007, '00:00']\n",
            "[172, 0.0005857545183971524, 0.0004495438770391047, '00:00']\n",
            "[172, 0.0005857545183971524, 0.0004495438770391047, '00:00']\n",
            "Epoch 172: reducing lr to 2.83205081163123e-05\n",
            "[173, 0.0006551746046170592, 0.0005159659194760025, '00:00']\n",
            "[173, 0.0006551746046170592, 0.0005159659194760025, '00:00']\n",
            "[174, 0.0006095161661505699, 0.0005372704472392797, '00:00']\n",
            "[174, 0.0006095161661505699, 0.0005372704472392797, '00:00']\n",
            "Epoch 174: reducing lr to 2.4377829791596018e-05\n",
            "[175, 0.0005844594561494887, 0.0005297975149005651, '00:00']\n",
            "[175, 0.0005844594561494887, 0.0005297975149005651, '00:00']\n",
            "[176, 0.0005458364612422884, 0.0004323094035498798, '00:00']\n",
            "[176, 0.0005458364612422884, 0.0004323094035498798, '00:00']\n",
            "Epoch 176: reducing lr to 2.0710868272819745e-05\n",
            "[177, 0.0005262242048047483, 0.0010192038025707006, '00:00']\n",
            "[177, 0.0005262242048047483, 0.0010192038025707006, '00:00']\n",
            "[178, 0.0005679666646756232, 0.00023696136486250907, '00:00']\n",
            "[178, 0.0005679666646756232, 0.00023696136486250907, '00:00']\n",
            "Epoch 178: reducing lr to 1.7326056644261042e-05\n",
            "[179, 0.0005493839853443205, 0.0005179205327294767, '00:00']\n",
            "[179, 0.0005493839853443205, 0.0005179205327294767, '00:00']\n",
            "[180, 0.0005082264542579651, 0.00039312904118560255, '00:00']\n",
            "[180, 0.0005082264542579651, 0.00039312904118560255, '00:00']\n",
            "Epoch 180: reducing lr to 1.4229333004358787e-05\n",
            "[181, 0.0004924607928842306, 0.00033440388506278396, '00:00']\n",
            "[181, 0.0004924607928842306, 0.00033440388506278396, '00:00']\n",
            "[182, 0.0004553989274427295, 0.0004356023564469069, '00:00']\n",
            "[182, 0.0004553989274427295, 0.0004356023564469069, '00:00']\n",
            "Epoch 182: reducing lr to 1.142613004829051e-05\n",
            "[183, 0.00045878716628067195, 0.0006617370527237654, '00:00']\n",
            "[183, 0.00045878716628067195, 0.0006617370527237654, '00:00']\n",
            "[184, 0.0004997506621293724, 0.0003948280354961753, '00:00']\n",
            "[184, 0.0004997506621293724, 0.0003948280354961753, '00:00']\n",
            "Epoch 184: reducing lr to 8.921355013827162e-06\n",
            "[185, 0.0005250551621429622, 0.00031260441755875945, '00:00']\n",
            "[185, 0.0005250551621429622, 0.00031260441755875945, '00:00']\n",
            "[186, 0.0005339288618415594, 0.000330434093484655, '00:00']\n",
            "[186, 0.0005339288618415594, 0.000330434093484655, '00:00']\n",
            "Epoch 186: reducing lr to 6.7194245102078845e-06\n",
            "[187, 0.00047419811016879976, 0.00035527755971997976, '00:00']\n",
            "[187, 0.00047419811016879976, 0.00035527755971997976, '00:00']\n",
            "[188, 0.0004177885130047798, 0.0003495548735372722, '00:00']\n",
            "[188, 0.0004177885130047798, 0.0003495548735372722, '00:00']\n",
            "Epoch 188: reducing lr to 4.8241895966799534e-06\n",
            "[189, 0.00040085683576762676, 0.0002801039663609117, '00:00']\n",
            "[189, 0.00040085683576762676, 0.0002801039663609117, '00:00']\n",
            "[190, 0.0004004815418738872, 0.00041701606824062765, '00:00']\n",
            "[190, 0.0004004815418738872, 0.00041701606824062765, '00:00']\n",
            "Epoch 190: reducing lr to 3.238975152946005e-06\n",
            "[191, 0.00038258402491919696, 0.00032662131707184017, '00:00']\n",
            "[191, 0.00038258402491919696, 0.00032662131707184017, '00:00']\n",
            "[192, 0.0004558041982818395, 0.00033102912129834294, '00:00']\n",
            "[192, 0.0004558041982818395, 0.00033102912129834294, '00:00']\n",
            "Epoch 192: reducing lr to 1.9665621784963234e-06\n",
            "[193, 0.0004059421771671623, 0.00028584874235093594, '00:00']\n",
            "[193, 0.0004059421771671623, 0.00028584874235093594, '00:00']\n",
            "[194, 0.0004100723599549383, 0.00046450895024463534, '00:00']\n",
            "[194, 0.0004100723599549383, 0.00046450895024463534, '00:00']\n",
            "Epoch 194: reducing lr to 1.0091829137997676e-06\n",
            "[195, 0.0004343227483332157, 0.00045873975614085793, '00:00']\n",
            "[195, 0.0004343227483332157, 0.00045873975614085793, '00:00']\n",
            "[196, 0.0004033805162180215, 0.00038724570185877383, '00:00']\n",
            "[196, 0.0004033805162180215, 0.00038724570185877383, '00:00']\n",
            "Epoch 196: reducing lr to 3.685147699959267e-07\n",
            "[197, 0.0003953255363740027, 0.00039615726564079523, '00:00']\n",
            "[197, 0.0003953255363740027, 0.00039615726564079523, '00:00']\n",
            "[198, 0.00039406478754244745, 0.0004033825534861535, '00:00']\n",
            "[198, 0.00039406478754244745, 0.0004033825534861535, '00:00']\n",
            "Epoch 198: reducing lr to 4.5687421727953756e-08\n",
            "[199, 0.00038016290636733174, 0.0004048749397043139, '00:00']\n",
            "[199, 0.00038016290636733174, 0.0004048749397043139, '00:00']\n",
            "Training took 77.05848108399982 seconds\n"
          ],
          "name": "stdout"
        }
      ]
    },
    {
      "cell_type": "markdown",
      "metadata": {
        "id": "lHLrhK08tN5A"
      },
      "source": [
        "Then we plot the loss as a function of batches and epochs to check if we reach a plateau."
      ]
    },
    {
      "cell_type": "code",
      "metadata": {
        "colab": {
          "base_uri": "https://localhost:8080/",
          "height": 265
        },
        "id": "jjpwlbW6tN5A",
        "outputId": "3eb5f112-8fc2-4ea9-e439-c90776d356a3"
      },
      "source": [
        "recorder.plot_loss()"
      ],
      "execution_count": 13,
      "outputs": [
        {
          "output_type": "display_data",
          "data": {
            "image/png": "[encoded data removed]",
            "text/plain": [
              "<Figure size 432x288 with 1 Axes>"
            ]
          },
          "metadata": {
            "tags": [],
            "needs_background": "light"
          }
        }
      ]
    },
    {
      "cell_type": "markdown",
      "metadata": {
        "id": "nJgo1iZItN5B"
      },
      "source": [
        "Then we evaluate the MSE on this network - it should be of the order of 0.001 or less if all has gone well...if it has not trained as well (note the pesky 0-mass peak above...) then it's going to be a bit higher."
      ]
    },
    {
      "cell_type": "code",
      "metadata": {
        "colab": {
          "base_uri": "https://localhost:8080/"
        },
        "id": "r02a14rTtN5B",
        "outputId": "9b1c57f4-c34d-4cc5-e9f4-35921d23dee8"
      },
      "source": [
        "learn.validate()"
      ],
      "execution_count": 14,
      "outputs": [
        {
          "output_type": "execute_result",
          "data": {
            "text/plain": [
              "(#1) [0.0004048749397043139]"
            ]
          },
          "metadata": {
            "tags": []
          },
          "execution_count": 14
        }
      ]
    },
    {
      "cell_type": "markdown",
      "metadata": {
        "id": "Rquj4vhGtN5C"
      },
      "source": [
        "Let's plot all of this, with ratios (thanks to code by Erik Wallin in example notebook). I have changed the plots to come in different columns rather than span multiple rows for a better visualization."
      ]
    },
    {
      "cell_type": "markdown",
      "metadata": {
        "id": "66j4MDRwtN5C"
      },
      "source": [
        "## Plotting the outputs of the network"
      ]
    },
    {
      "cell_type": "markdown",
      "metadata": {
        "id": "uOgeRjfGtN5C"
      },
      "source": [
        "Lazy-save of our output files (they'll also be on screen)"
      ]
    },
    {
      "cell_type": "code",
      "metadata": {
        "id": "EZ97aukstN5D"
      },
      "source": [
        "import os\n",
        "save_dir = \"plotOutput\"\n",
        "if not os.path.exists(save_dir):\n",
        "    os.makedirs(save_dir)"
      ],
      "execution_count": 15,
      "outputs": []
    },
    {
      "cell_type": "markdown",
      "metadata": {
        "id": "h9YZxpWztN5D"
      },
      "source": [
        "A function in case we want to un-normalize and get back to physical quantities..."
      ]
    },
    {
      "cell_type": "code",
      "metadata": {
        "id": "t45tDBgStN5D"
      },
      "source": [
        "def custom_unnormalize(df):\n",
        "    df['eta'] = df['eta'] * np.pi\n",
        "    df['phi'] = df['phi'] * np.pi\n",
        "    df['E'] = np.exp(df['E'])\n",
        "    df['pt'] = np.exp(df['pt'])\n",
        "    return df"
      ],
      "execution_count": 16,
      "outputs": []
    },
    {
      "cell_type": "markdown",
      "metadata": {
        "id": "LWJzQuA-tN5D"
      },
      "source": [
        "Make the histograms from the dataset..."
      ]
    },
    {
      "cell_type": "code",
      "metadata": {
        "colab": {
          "base_uri": "https://localhost:8080/",
          "height": 441
        },
        "id": "gJzIYHAutN5D",
        "outputId": "268d6ddf-3b24-413b-cde4-66e678979505"
      },
      "source": [
        "import numpy as np\n",
        "import matplotlib.pyplot as plt\n",
        "\n",
        "plt.close('all')\n",
        "\n",
        "line_style = ['--', '-']\n",
        "colors = ['orange', 'c']\n",
        "markers = ['*', 's']\n",
        "\n",
        "model.to('cpu')\n",
        "\n",
        "save = True # Option to save figure\n",
        "\n",
        "# Histograms\n",
        "idxs = (0, 100000)  # Choose events to compare\n",
        "data = torch.tensor(df_test[idxs[0]:idxs[1]].values, dtype=torch.float)\n",
        "#data = torch.tensor(test[idxs[0]:idxs[1]].values, dtype=torch.float).double()\n",
        "pred = model(data)\n",
        "pred = pred.detach().numpy()\n",
        "data = data.detach().numpy()\n",
        "\n",
        "data_df = pd.DataFrame(data, columns=df_test.columns)\n",
        "pred_df = pd.DataFrame(pred, columns=df_test.columns)\n",
        "\n",
        "unnormalized_data_df = custom_unnormalize(data_df)\n",
        "unnormalized_pred_df = custom_unnormalize(pred_df)    \n",
        "    \n",
        "alph = 0.8\n",
        "n_bins = 200\n",
        "f,a = plt.subplots(1,4, figsize=(15, 6))\n",
        "a = a.ravel()\n",
        "\n",
        "for kk, ax in enumerate(a):\n",
        "    # plt.figure()\n",
        "    n_hist_data, bin_edges, _ = ax.hist(data[:, kk], color=colors[1], label='Input', alpha=1, bins=n_bins)\n",
        "    n_hist_pred, _, _ = ax.hist(pred[:, kk], color=colors[0], label='Output', alpha=alph, bins=bin_edges)\n",
        "    ax.set_title(df_test.columns[kk])\n",
        "    ax.set_xlabel(df_test.columns[kk])\n",
        "    ax.set_ylabel('Number of events')\n",
        "    # ms.sciy()\n",
        "    ax.set_yscale('log')\n",
        "    ax.legend()\n",
        "plt.tight_layout()\n",
        "\n",
        "if save:\n",
        "    plt.savefig(os.path.join(save_dir,'OutputHist.png'))"
      ],
      "execution_count": 19,
      "outputs": [
        {
          "output_type": "display_data",
          "data": {
            "image/png": "[encoded data removed]",
            "text/plain": [
              "<Figure size 1080x432 with 4 Axes>"
            ]
          },
          "metadata": {
            "tags": [],
            "needs_background": "light"
          }
        }
      ]
    },
    {
      "cell_type": "code",
      "metadata": {
        "colab": {
          "base_uri": "https://localhost:8080/"
        },
        "id": "j2m-PJqPtN5E",
        "outputId": "dd5dc24c-4b27-4213-e303-ad13be274e15"
      },
      "source": [
        "def getRatio(bin1,bin2):\n",
        "    bins = []\n",
        "    for b1,b2 in zip(bin1,bin2):\n",
        "        if b1==0 and b2==0:\n",
        "            bins.append(0.)\n",
        "        elif b2==0:\n",
        "            bins.append(None)\n",
        "        else:\n",
        "            bins.append((float(b2)-float(b1))/b1)\n",
        "    return bins   \n",
        "\n",
        "rat = getRatio(n_hist_data,n_hist_pred)\n",
        "print(rat)"
      ],
      "execution_count": 20,
      "outputs": [
        {
          "output_type": "stream",
          "text": [
            "[-0.967741935483871, -0.7777777777777778, -0.5454545454545454, -0.4230769230769231, -0.07142857142857142, 1.0, 0.13636363636363635, 0.125, 0.15, 0.7142857142857143, 0.25, 0.3157894736842105, 0.09375, 0.3684210526315789, 0.43478260869565216, 0.08695652173913043, 0.625, 1.1333333333333333, 0.07692307692307693, -0.2903225806451613, -0.2222222222222222, 0.17647058823529413, 0.10526315789473684, 0.15384615384615385, -0.25, 0.043478260869565216, 0.0, 0.0625, -0.038461538461538464, 0.25, -0.18518518518518517, -0.09090909090909091, 0.6875, -0.42857142857142855, 0.08695652173913043, -0.13043478260869565, 0.19230769230769232, 0.09523809523809523, -0.13793103448275862, 0.4166666666666667, 0.0, -0.37037037037037035, 0.3333333333333333, -0.30434782608695654, 0.10526315789473684, 0.0, 0.13043478260869565, -0.2903225806451613, 0.038461538461538464, 0.4, 0.16, -0.3783783783783784, 0.4, -0.21739130434782608, 0.3333333333333333, -0.20833333333333334, 0.0, -0.11538461538461539, 0.1111111111111111, 0.09090909090909091, 0.09090909090909091, 0.0, 0.21052631578947367, -0.045454545454545456, -0.07692307692307693, -0.4782608695652174, 0.23529411764705882, -0.034482758620689655, 0.21428571428571427, -0.1935483870967742, -0.058823529411764705, 0.0, 0.10526315789473684, -0.045454545454545456, 0.0, -0.04, -0.18181818181818182, 0.1, -0.25925925925925924, 0.30434782608695654, 0.0967741935483871, -0.17857142857142858, 0.0, -0.2777777777777778, 0.08, -0.1724137931034483, 0.4, -0.41935483870967744, 0.5, -0.05, -0.043478260869565216, 0.125, -0.038461538461538464, 0.0, 0.1, 0.11764705882352941, -0.1111111111111111, 0.16, -0.11538461538461539, 0.6, -0.52, -0.1794871794871795, 0.125, 0.09375, -0.06666666666666667, 0.3684210526315789, -0.038461538461538464, -0.22580645161290322, 0.15625, 0.0, 0.0, 0.6111111111111112, 0.15789473684210525, -0.3333333333333333, -0.20588235294117646, 0.4090909090909091, 0.26666666666666666, -0.041666666666666664, -0.03571428571428571, 0.08, -0.23809523809523808, 0.5333333333333333, 0.0, 0.038461538461538464, -0.08695652173913043, -0.04, 0.045454545454545456, 0.0, -0.045454545454545456, 0.23809523809523808, -0.18181818181818182, -0.06451612903225806, 0.15789473684210525, 0.21052631578947367, 0.05, -0.05263157894736842, -0.10344827586206896, 0.4444444444444444, -0.20833333333333334, 0.47058823529411764, -0.22727272727272727, -0.045454545454545456, -0.05, -0.2608695652173913, 0.16666666666666666, 0.05, -0.13333333333333333, -0.10714285714285714, 0.15384615384615385, -0.10526315789473684, 0.4666666666666667, 0.25, -0.17857142857142858, -0.037037037037037035, -0.05263157894736842, -0.3, 0.23076923076923078, -0.20689655172413793, -0.22580645161290322, 0.24, -0.058823529411764705, -0.09523809523809523, 0.18518518518518517, -0.2222222222222222, -0.2222222222222222, 1.2857142857142858, -0.5714285714285714, 0.13333333333333333, 0.043478260869565216, -0.18518518518518517, 0.0, 0.1, 0.26666666666666666, 0.08695652173913043, -0.07142857142857142, -0.12903225806451613, 0.0, 0.18518518518518517, -0.07692307692307693, 0.05, 0.13043478260869565, -0.07407407407407407, 0.1875, -0.20833333333333334, 0.625, -0.34375, 0.13636363636363635, 0.2222222222222222, 0.058823529411764705, 0.2727272727272727, 0.0, -0.1724137931034483, 0.09090909090909091, -0.14285714285714285, 0.0, 0.5238095238095238, 0.05263157894736842, -0.25, -0.16666666666666666, -0.5454545454545454]\n"
          ],
          "name": "stdout"
        }
      ]
    },
    {
      "cell_type": "code",
      "metadata": {
        "id": "FO7BouhKtN5E"
      },
      "source": [
        ""
      ],
      "execution_count": null,
      "outputs": []
    }
  ]
}